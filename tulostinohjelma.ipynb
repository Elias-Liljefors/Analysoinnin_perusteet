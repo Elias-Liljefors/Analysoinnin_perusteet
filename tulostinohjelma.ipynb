{
 "cells": [
  {
   "cell_type": "code",
   "execution_count": 26,
   "metadata": {},
   "outputs": [
    {
     "name": "stdout",
     "output_type": "stream",
     "text": [
      "Printer App\n",
      "This app is made by: Elias\n",
      "The value of number1 is:  10\n",
      "The value of number1 is:  2\n",
      "10  *  2  =  20\n",
      "10  +  2  =  12\n",
      "10  /  2  =  5.0\n",
      "10  -  2  =  8\n"
     ]
    }
   ],
   "source": [
    "Creator = \"Elias\"\n",
    "number1 = 10\n",
    "number2 = 2\n",
    "addition = 0\n",
    "addition = number1 + number2\n",
    "division = 0.0\n",
    "division = number1 / number2\n",
    "substraction = 0\n",
    "substraction = number1 - number2\n",
    "multiplication = 0\n",
    "multiplication = number1 * number2\n",
    "\n",
    "print(\"Printer App\")\n",
    "print(\"This app is made by: \" + Creator)\n",
    "# print(number1)\n",
    "print(\"The value of number1 is: \",number1)\n",
    "print(\"The value of number1 is: \",number2)\n",
    "print(number1, \" * \", number2, \" = \", multiplication)\n",
    "print(number1, \" + \", number2, \" = \", addition)\n",
    "print(number1, \" / \", number2, \" = \", division)\n",
    "print(number1, \" - \", number2, \" = \", substraction)\n"
   ]
  }
 ],
 "metadata": {
  "kernelspec": {
   "display_name": "Python 3",
   "language": "python",
   "name": "python3"
  },
  "language_info": {
   "name": "python",
   "version": "3.13.0"
  }
 },
 "nbformat": 4,
 "nbformat_minor": 2
}
