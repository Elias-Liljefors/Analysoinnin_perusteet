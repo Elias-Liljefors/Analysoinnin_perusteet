{
 "cells": [
  {
   "cell_type": "code",
   "execution_count": 1,
   "metadata": {},
   "outputs": [
    {
     "name": "stdout",
     "output_type": "stream",
     "text": [
      "['tuoli', 'sohva', 'pöytä']\n"
     ]
    }
   ],
   "source": [
    "# Excercise 1.1\n",
    "list = [\"tuoli\", \"sohva\", \"pöytä\"]\n",
    "\n",
    "# Excercise 1.2\n",
    "print (list)"
   ]
  },
  {
   "cell_type": "code",
   "execution_count": 15,
   "metadata": {},
   "outputs": [
    {
     "name": "stdout",
     "output_type": "stream",
     "text": [
      "['tuoli', 'sohva']\n"
     ]
    }
   ],
   "source": [
    "# Excercise 1.3\n",
    "list = [\"tuoli\", \"sohva\", \"pöytä\"]\n",
    "print (list [:2])"
   ]
  },
  {
   "cell_type": "code",
   "execution_count": 33,
   "metadata": {},
   "outputs": [
    {
     "name": "stdout",
     "output_type": "stream",
     "text": [
      "tuoli\n"
     ]
    }
   ],
   "source": [
    "# Excercise 1.4\n",
    "list = [\"tuoli\", \"sohva\", \"pöytä\"]\n",
    "\n",
    "for i in list:\n",
    "    if i == \"tuoli\":\n",
    "        print (i)"
   ]
  },
  {
   "cell_type": "code",
   "execution_count": 70,
   "metadata": {},
   "outputs": [
    {
     "name": "stdout",
     "output_type": "stream",
     "text": [
      "[8992, 9396, 3577, 1712, 9824]\n",
      "Sum of list:  33501\n",
      "Largest number in list:  9824\n"
     ]
    }
   ],
   "source": [
    "# Excercise 2.1 - 2.5\n",
    "from random import randint\n",
    "thrownDiceNumbers = [randint(1,9999), randint(1,9999), randint(1,9999), randint(1,9999), randint(1,9999)]\n",
    "print (thrownDiceNumbers)\n",
    "\n",
    "result = sum (thrownDiceNumbers)\n",
    "print (\"Sum of list: \", result)\n",
    "\n",
    "largest = max(thrownDiceNumbers)\n",
    "print(\"Largest number in list: \", largest)"
   ]
  }
 ],
 "metadata": {
  "kernelspec": {
   "display_name": "Python 3",
   "language": "python",
   "name": "python3"
  },
  "language_info": {
   "codemirror_mode": {
    "name": "ipython",
    "version": 3
   },
   "file_extension": ".py",
   "mimetype": "text/x-python",
   "name": "python",
   "nbconvert_exporter": "python",
   "pygments_lexer": "ipython3",
   "version": "3.13.0"
  }
 },
 "nbformat": 4,
 "nbformat_minor": 2
}
