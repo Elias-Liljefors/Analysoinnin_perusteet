{
 "cells": [
  {
   "cell_type": "code",
   "execution_count": 6,
   "metadata": {},
   "outputs": [
    {
     "name": "stdout",
     "output_type": "stream",
     "text": [
      "Number1 is equal to number2.\n",
      "Number1 is larger than or equal to number2.\n"
     ]
    }
   ],
   "source": [
    "number1 = int (4)\n",
    "number2 = int (4)\n",
    "\n",
    "# 1.a.\n",
    "if number1 == number2:\n",
    "    print(\"Number1 is equal to number2.\")\n",
    "\n",
    "# 1.b.\n",
    "if number1 > number2:\n",
    "    print(\"Number1 is larger than number2.\")\n",
    "\n",
    "# 1.c.\n",
    "if number1 >= number2:\n",
    "    print(\"Number1 is larger than or equal to number2.\")\n",
    "\n",
    "# 1.d.\n",
    "if number1 != number2:\n",
    "    print(\"Number1 is not equal to number2.\")"
   ]
  },
  {
   "cell_type": "code",
   "execution_count": 17,
   "metadata": {},
   "outputs": [
    {
     "name": "stdout",
     "output_type": "stream",
     "text": [
      "Number 2 is larger than number 3.\n"
     ]
    }
   ],
   "source": [
    "number1 = int (5)\n",
    "number2 = int (6)\n",
    "number3 = int (4)\n",
    "\n",
    "# 2.a.\n",
    "if number1 == number2 == number3:\n",
    "    print(\"Numbers 1, 2 and 3 are equal.\")\n",
    "\n",
    "# 2.b.\n",
    "if number1 == number2 | number3 == number2:\n",
    "    print(\"Numbers 1 and 2 or 3 and 2 are equal.\")\n",
    "\n",
    "# 2.c.\n",
    "if number1 > number2 & number1 > number3:\n",
    "    print(\"Number 1 is larger than number 2 and number 1 is larger than number 3.\")\n",
    "\n",
    "# 2.d.\n",
    "if number1 > number2:\n",
    "    print(\"Number 1 is larger than number 2.\")\n",
    "elif number2 > number3:\n",
    "    print(\"Number 2 is larger than number 3.\")\n",
    "\n",
    "# 2.e.\n",
    "if number1 == number2:\n",
    "    print(\"Number 1 equal to number 2.\")\n",
    "elif number1 == number3:\n",
    "    print(\"Number 1 is equal to number 3.\")"
   ]
  },
  {
   "cell_type": "code",
   "execution_count": 4,
   "metadata": {},
   "outputs": [
    {
     "name": "stdout",
     "output_type": "stream",
     "text": [
      "String 1 is not equal to string 2.\n",
      "Number 1 is equal to number 3.\n"
     ]
    }
   ],
   "source": [
    "string1 = \"H\"\n",
    "string2 = \"b\"\n",
    "string3 = \"H\"\n",
    "\n",
    "# 3.a.\n",
    "if string1 == string2:\n",
    "    print(\"String 1 is equal to string 2.\")\n",
    "\n",
    "# 3.b.\n",
    "if string1 != string2:\n",
    "    print(\"String 1 is not equal to string 2.\")\n",
    "\n",
    "# 3.c.\n",
    "if string1 == string2:\n",
    "    print(\"String 1 is equal to string 2.\")\n",
    "elif string1 == string3:\n",
    "    print(\"Number 1 is equal to number 3.\")"
   ]
  }
 ],
 "metadata": {
  "kernelspec": {
   "display_name": "Python 3",
   "language": "python",
   "name": "python3"
  },
  "language_info": {
   "codemirror_mode": {
    "name": "ipython",
    "version": 3
   },
   "file_extension": ".py",
   "mimetype": "text/x-python",
   "name": "python",
   "nbconvert_exporter": "python",
   "pygments_lexer": "ipython3",
   "version": "3.13.0"
  }
 },
 "nbformat": 4,
 "nbformat_minor": 2
}
