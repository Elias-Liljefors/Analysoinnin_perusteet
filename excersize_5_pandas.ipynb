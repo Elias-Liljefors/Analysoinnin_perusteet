{
 "cells": [
  {
   "cell_type": "code",
   "execution_count": 17,
   "metadata": {},
   "outputs": [],
   "source": [
    "import pandas as pd\n",
    "import numpy as np\n",
    "\n",
    "file_path = 'video_game_reviews.csv'\n",
    "\n",
    "chipo = pd.read_csv(file_path, sep = ',')"
   ]
  },
  {
   "cell_type": "code",
   "execution_count": 18,
   "metadata": {},
   "outputs": [
    {
     "data": {
      "text/html": [
       "<div>\n",
       "<style scoped>\n",
       "    .dataframe tbody tr th:only-of-type {\n",
       "        vertical-align: middle;\n",
       "    }\n",
       "\n",
       "    .dataframe tbody tr th {\n",
       "        vertical-align: top;\n",
       "    }\n",
       "\n",
       "    .dataframe thead th {\n",
       "        text-align: right;\n",
       "    }\n",
       "</style>\n",
       "<table border=\"1\" class=\"dataframe\">\n",
       "  <thead>\n",
       "    <tr style=\"text-align: right;\">\n",
       "      <th></th>\n",
       "      <th>Game Title</th>\n",
       "      <th>User Rating</th>\n",
       "      <th>Age Group Targeted</th>\n",
       "      <th>Price</th>\n",
       "      <th>Platform</th>\n",
       "      <th>Requires Special Device</th>\n",
       "      <th>Developer</th>\n",
       "      <th>Publisher</th>\n",
       "      <th>Release Year</th>\n",
       "      <th>Genre</th>\n",
       "      <th>Multiplayer</th>\n",
       "      <th>Game Length (Hours)</th>\n",
       "      <th>Graphics Quality</th>\n",
       "      <th>Soundtrack Quality</th>\n",
       "      <th>Story Quality</th>\n",
       "      <th>User Review Text</th>\n",
       "      <th>Game Mode</th>\n",
       "      <th>Min Number of Players</th>\n",
       "    </tr>\n",
       "  </thead>\n",
       "  <tbody>\n",
       "    <tr>\n",
       "      <th>0</th>\n",
       "      <td>Grand Theft Auto V</td>\n",
       "      <td>36.4</td>\n",
       "      <td>All Ages</td>\n",
       "      <td>41.41</td>\n",
       "      <td>PC</td>\n",
       "      <td>No</td>\n",
       "      <td>Game Freak</td>\n",
       "      <td>Innersloth</td>\n",
       "      <td>2015</td>\n",
       "      <td>Adventure</td>\n",
       "      <td>No</td>\n",
       "      <td>55.3</td>\n",
       "      <td>Medium</td>\n",
       "      <td>Average</td>\n",
       "      <td>Poor</td>\n",
       "      <td>Solid game, but too many bugs.</td>\n",
       "      <td>Offline</td>\n",
       "      <td>1</td>\n",
       "    </tr>\n",
       "    <tr>\n",
       "      <th>1</th>\n",
       "      <td>The Sims 4</td>\n",
       "      <td>38.3</td>\n",
       "      <td>Adults</td>\n",
       "      <td>57.56</td>\n",
       "      <td>PC</td>\n",
       "      <td>No</td>\n",
       "      <td>Nintendo</td>\n",
       "      <td>Electronic Arts</td>\n",
       "      <td>2015</td>\n",
       "      <td>Shooter</td>\n",
       "      <td>Yes</td>\n",
       "      <td>34.6</td>\n",
       "      <td>Low</td>\n",
       "      <td>Poor</td>\n",
       "      <td>Poor</td>\n",
       "      <td>Solid game, but too many bugs.</td>\n",
       "      <td>Offline</td>\n",
       "      <td>3</td>\n",
       "    </tr>\n",
       "    <tr>\n",
       "      <th>2</th>\n",
       "      <td>Minecraft</td>\n",
       "      <td>26.8</td>\n",
       "      <td>Teens</td>\n",
       "      <td>44.93</td>\n",
       "      <td>PC</td>\n",
       "      <td>Yes</td>\n",
       "      <td>Bungie</td>\n",
       "      <td>Capcom</td>\n",
       "      <td>2012</td>\n",
       "      <td>Adventure</td>\n",
       "      <td>Yes</td>\n",
       "      <td>13.9</td>\n",
       "      <td>Low</td>\n",
       "      <td>Good</td>\n",
       "      <td>Average</td>\n",
       "      <td>Great game, but the graphics could be better.</td>\n",
       "      <td>Offline</td>\n",
       "      <td>5</td>\n",
       "    </tr>\n",
       "    <tr>\n",
       "      <th>3</th>\n",
       "      <td>Bioshock Infinite</td>\n",
       "      <td>38.4</td>\n",
       "      <td>All Ages</td>\n",
       "      <td>48.29</td>\n",
       "      <td>Mobile</td>\n",
       "      <td>Yes</td>\n",
       "      <td>Game Freak</td>\n",
       "      <td>Nintendo</td>\n",
       "      <td>2015</td>\n",
       "      <td>Sports</td>\n",
       "      <td>No</td>\n",
       "      <td>41.9</td>\n",
       "      <td>Medium</td>\n",
       "      <td>Good</td>\n",
       "      <td>Excellent</td>\n",
       "      <td>Solid game, but the graphics could be better.</td>\n",
       "      <td>Online</td>\n",
       "      <td>4</td>\n",
       "    </tr>\n",
       "    <tr>\n",
       "      <th>4</th>\n",
       "      <td>Half-Life: Alyx</td>\n",
       "      <td>30.1</td>\n",
       "      <td>Adults</td>\n",
       "      <td>55.49</td>\n",
       "      <td>PlayStation</td>\n",
       "      <td>Yes</td>\n",
       "      <td>Game Freak</td>\n",
       "      <td>Epic Games</td>\n",
       "      <td>2022</td>\n",
       "      <td>RPG</td>\n",
       "      <td>Yes</td>\n",
       "      <td>13.2</td>\n",
       "      <td>High</td>\n",
       "      <td>Poor</td>\n",
       "      <td>Good</td>\n",
       "      <td>Great game, but too many bugs.</td>\n",
       "      <td>Offline</td>\n",
       "      <td>1</td>\n",
       "    </tr>\n",
       "    <tr>\n",
       "      <th>5</th>\n",
       "      <td>Grand Theft Auto V</td>\n",
       "      <td>38.6</td>\n",
       "      <td>Adults</td>\n",
       "      <td>51.73</td>\n",
       "      <td>Xbox</td>\n",
       "      <td>No</td>\n",
       "      <td>Capcom</td>\n",
       "      <td>Capcom</td>\n",
       "      <td>2017</td>\n",
       "      <td>RPG</td>\n",
       "      <td>Yes</td>\n",
       "      <td>48.8</td>\n",
       "      <td>Low</td>\n",
       "      <td>Average</td>\n",
       "      <td>Poor</td>\n",
       "      <td>Solid game, but the graphics could be better.</td>\n",
       "      <td>Offline</td>\n",
       "      <td>4</td>\n",
       "    </tr>\n",
       "    <tr>\n",
       "      <th>6</th>\n",
       "      <td>Sid Meier’s Civilization VI</td>\n",
       "      <td>33.1</td>\n",
       "      <td>Adults</td>\n",
       "      <td>46.44</td>\n",
       "      <td>Mobile</td>\n",
       "      <td>No</td>\n",
       "      <td>Game Freak</td>\n",
       "      <td>Innersloth</td>\n",
       "      <td>2020</td>\n",
       "      <td>Simulation</td>\n",
       "      <td>No</td>\n",
       "      <td>36.9</td>\n",
       "      <td>High</td>\n",
       "      <td>Excellent</td>\n",
       "      <td>Good</td>\n",
       "      <td>Solid game, but the gameplay is amazing.</td>\n",
       "      <td>Online</td>\n",
       "      <td>3</td>\n",
       "    </tr>\n",
       "    <tr>\n",
       "      <th>7</th>\n",
       "      <td>Just Dance 2024</td>\n",
       "      <td>32.3</td>\n",
       "      <td>Teens</td>\n",
       "      <td>36.92</td>\n",
       "      <td>Nintendo Switch</td>\n",
       "      <td>No</td>\n",
       "      <td>Capcom</td>\n",
       "      <td>Take-Two Interactive</td>\n",
       "      <td>2012</td>\n",
       "      <td>Strategy</td>\n",
       "      <td>No</td>\n",
       "      <td>52.1</td>\n",
       "      <td>Ultra</td>\n",
       "      <td>Poor</td>\n",
       "      <td>Poor</td>\n",
       "      <td>Disappointing game, but the gameplay is amazing.</td>\n",
       "      <td>Offline</td>\n",
       "      <td>3</td>\n",
       "    </tr>\n",
       "    <tr>\n",
       "      <th>8</th>\n",
       "      <td>Sid Meier’s Civilization VI</td>\n",
       "      <td>26.7</td>\n",
       "      <td>All Ages</td>\n",
       "      <td>22.20</td>\n",
       "      <td>Nintendo Switch</td>\n",
       "      <td>No</td>\n",
       "      <td>Epic Games</td>\n",
       "      <td>Epic Games</td>\n",
       "      <td>2010</td>\n",
       "      <td>Fighting</td>\n",
       "      <td>No</td>\n",
       "      <td>56.4</td>\n",
       "      <td>Low</td>\n",
       "      <td>Average</td>\n",
       "      <td>Good</td>\n",
       "      <td>Great game, but the gameplay is amazing.</td>\n",
       "      <td>Online</td>\n",
       "      <td>10</td>\n",
       "    </tr>\n",
       "    <tr>\n",
       "      <th>9</th>\n",
       "      <td>1000-Piece Puzzle</td>\n",
       "      <td>23.9</td>\n",
       "      <td>Kids</td>\n",
       "      <td>20.09</td>\n",
       "      <td>PC</td>\n",
       "      <td>No</td>\n",
       "      <td>CD Projekt Red</td>\n",
       "      <td>Innersloth</td>\n",
       "      <td>2013</td>\n",
       "      <td>Sports</td>\n",
       "      <td>Yes</td>\n",
       "      <td>46.0</td>\n",
       "      <td>Low</td>\n",
       "      <td>Good</td>\n",
       "      <td>Average</td>\n",
       "      <td>Solid game, but the graphics could be better.</td>\n",
       "      <td>Offline</td>\n",
       "      <td>5</td>\n",
       "    </tr>\n",
       "  </tbody>\n",
       "</table>\n",
       "</div>"
      ],
      "text/plain": [
       "                    Game Title  User Rating Age Group Targeted  Price  \\\n",
       "0           Grand Theft Auto V         36.4           All Ages  41.41   \n",
       "1                   The Sims 4         38.3             Adults  57.56   \n",
       "2                    Minecraft         26.8              Teens  44.93   \n",
       "3            Bioshock Infinite         38.4           All Ages  48.29   \n",
       "4              Half-Life: Alyx         30.1             Adults  55.49   \n",
       "5           Grand Theft Auto V         38.6             Adults  51.73   \n",
       "6  Sid Meier’s Civilization VI         33.1             Adults  46.44   \n",
       "7              Just Dance 2024         32.3              Teens  36.92   \n",
       "8  Sid Meier’s Civilization VI         26.7           All Ages  22.20   \n",
       "9            1000-Piece Puzzle         23.9               Kids  20.09   \n",
       "\n",
       "          Platform Requires Special Device       Developer  \\\n",
       "0               PC                      No      Game Freak   \n",
       "1               PC                      No        Nintendo   \n",
       "2               PC                     Yes          Bungie   \n",
       "3           Mobile                     Yes      Game Freak   \n",
       "4      PlayStation                     Yes      Game Freak   \n",
       "5             Xbox                      No          Capcom   \n",
       "6           Mobile                      No      Game Freak   \n",
       "7  Nintendo Switch                      No          Capcom   \n",
       "8  Nintendo Switch                      No      Epic Games   \n",
       "9               PC                      No  CD Projekt Red   \n",
       "\n",
       "              Publisher  Release Year       Genre Multiplayer  \\\n",
       "0            Innersloth          2015   Adventure          No   \n",
       "1       Electronic Arts          2015     Shooter         Yes   \n",
       "2                Capcom          2012   Adventure         Yes   \n",
       "3              Nintendo          2015      Sports          No   \n",
       "4            Epic Games          2022         RPG         Yes   \n",
       "5                Capcom          2017         RPG         Yes   \n",
       "6            Innersloth          2020  Simulation          No   \n",
       "7  Take-Two Interactive          2012    Strategy          No   \n",
       "8            Epic Games          2010    Fighting          No   \n",
       "9            Innersloth          2013      Sports         Yes   \n",
       "\n",
       "   Game Length (Hours) Graphics Quality Soundtrack Quality Story Quality  \\\n",
       "0                 55.3           Medium            Average          Poor   \n",
       "1                 34.6              Low               Poor          Poor   \n",
       "2                 13.9              Low               Good       Average   \n",
       "3                 41.9           Medium               Good     Excellent   \n",
       "4                 13.2             High               Poor          Good   \n",
       "5                 48.8              Low            Average          Poor   \n",
       "6                 36.9             High          Excellent          Good   \n",
       "7                 52.1            Ultra               Poor          Poor   \n",
       "8                 56.4              Low            Average          Good   \n",
       "9                 46.0              Low               Good       Average   \n",
       "\n",
       "                                   User Review Text Game Mode  \\\n",
       "0                    Solid game, but too many bugs.   Offline   \n",
       "1                    Solid game, but too many bugs.   Offline   \n",
       "2     Great game, but the graphics could be better.   Offline   \n",
       "3     Solid game, but the graphics could be better.    Online   \n",
       "4                    Great game, but too many bugs.   Offline   \n",
       "5     Solid game, but the graphics could be better.   Offline   \n",
       "6          Solid game, but the gameplay is amazing.    Online   \n",
       "7  Disappointing game, but the gameplay is amazing.   Offline   \n",
       "8          Great game, but the gameplay is amazing.    Online   \n",
       "9     Solid game, but the graphics could be better.   Offline   \n",
       "\n",
       "   Min Number of Players  \n",
       "0                      1  \n",
       "1                      3  \n",
       "2                      5  \n",
       "3                      4  \n",
       "4                      1  \n",
       "5                      4  \n",
       "6                      3  \n",
       "7                      3  \n",
       "8                     10  \n",
       "9                      5  "
      ]
     },
     "execution_count": 18,
     "metadata": {},
     "output_type": "execute_result"
    }
   ],
   "source": [
    "chipo.head(10)"
   ]
  },
  {
   "cell_type": "code",
   "execution_count": 19,
   "metadata": {},
   "outputs": [
    {
     "data": {
      "text/plain": [
       "47774"
      ]
     },
     "execution_count": 19,
     "metadata": {},
     "output_type": "execute_result"
    }
   ],
   "source": [
    "chipo.shape[0]"
   ]
  },
  {
   "cell_type": "code",
   "execution_count": 20,
   "metadata": {},
   "outputs": [
    {
     "name": "stdout",
     "output_type": "stream",
     "text": [
      "<class 'pandas.core.frame.DataFrame'>\n",
      "RangeIndex: 47774 entries, 0 to 47773\n",
      "Data columns (total 18 columns):\n",
      " #   Column                   Non-Null Count  Dtype  \n",
      "---  ------                   --------------  -----  \n",
      " 0   Game Title               47774 non-null  object \n",
      " 1   User Rating              47774 non-null  float64\n",
      " 2   Age Group Targeted       47774 non-null  object \n",
      " 3   Price                    47774 non-null  float64\n",
      " 4   Platform                 47774 non-null  object \n",
      " 5   Requires Special Device  47774 non-null  object \n",
      " 6   Developer                47774 non-null  object \n",
      " 7   Publisher                47774 non-null  object \n",
      " 8   Release Year             47774 non-null  int64  \n",
      " 9   Genre                    47774 non-null  object \n",
      " 10  Multiplayer              47774 non-null  object \n",
      " 11  Game Length (Hours)      47774 non-null  float64\n",
      " 12  Graphics Quality         47774 non-null  object \n",
      " 13  Soundtrack Quality       47774 non-null  object \n",
      " 14  Story Quality            47774 non-null  object \n",
      " 15  User Review Text         47774 non-null  object \n",
      " 16  Game Mode                47774 non-null  object \n",
      " 17  Min Number of Players    47774 non-null  int64  \n",
      "dtypes: float64(3), int64(2), object(13)\n",
      "memory usage: 6.6+ MB\n"
     ]
    }
   ],
   "source": [
    "chipo.info()"
   ]
  },
  {
   "cell_type": "code",
   "execution_count": 21,
   "metadata": {},
   "outputs": [
    {
     "data": {
      "text/plain": [
       "(47774, 18)"
      ]
     },
     "execution_count": 21,
     "metadata": {},
     "output_type": "execute_result"
    }
   ],
   "source": [
    "chipo.shape"
   ]
  },
  {
   "cell_type": "code",
   "execution_count": 22,
   "metadata": {},
   "outputs": [
    {
     "data": {
      "text/plain": [
       "18"
      ]
     },
     "execution_count": 22,
     "metadata": {},
     "output_type": "execute_result"
    }
   ],
   "source": [
    "chipo.shape[1]"
   ]
  },
  {
   "cell_type": "code",
   "execution_count": 23,
   "metadata": {},
   "outputs": [
    {
     "data": {
      "text/plain": [
       "Index(['Game Title', 'User Rating', 'Age Group Targeted', 'Price', 'Platform',\n",
       "       'Requires Special Device', 'Developer', 'Publisher', 'Release Year',\n",
       "       'Genre', 'Multiplayer', 'Game Length (Hours)', 'Graphics Quality',\n",
       "       'Soundtrack Quality', 'Story Quality', 'User Review Text', 'Game Mode',\n",
       "       'Min Number of Players'],\n",
       "      dtype='object')"
      ]
     },
     "execution_count": 23,
     "metadata": {},
     "output_type": "execute_result"
    }
   ],
   "source": [
    "chipo.columns"
   ]
  },
  {
   "cell_type": "code",
   "execution_count": 24,
   "metadata": {},
   "outputs": [
    {
     "data": {
      "text/plain": [
       "RangeIndex(start=0, stop=47774, step=1)"
      ]
     },
     "execution_count": 24,
     "metadata": {},
     "output_type": "execute_result"
    }
   ],
   "source": [
    "chipo.index"
   ]
  },
  {
   "cell_type": "code",
   "execution_count": 25,
   "metadata": {},
   "outputs": [
    {
     "data": {
      "text/plain": [
       "array([['Grand Theft Auto V', 36.4, 'All Ages', ...,\n",
       "        'Solid game, but too many bugs.', 'Offline', 1],\n",
       "       ['The Sims 4', 38.3, 'Adults', ...,\n",
       "        'Solid game, but too many bugs.', 'Offline', 3],\n",
       "       ['Minecraft', 26.8, 'Teens', ...,\n",
       "        'Great game, but the graphics could be better.', 'Offline', 5],\n",
       "       ...,\n",
       "       ['Animal Crossing: New Horizons', 26.7, 'All Ages', ...,\n",
       "        'Great game, but the gameplay is amazing.', 'Offline', 5],\n",
       "       ['The Legend of Zelda: Breath of the Wild', 22.5, 'Kids', ...,\n",
       "        'Disappointing game, but the graphics could be better.',\n",
       "        'Offline', 1],\n",
       "       ['The Legend of Zelda: Breath of the Wild', 22.7, 'Kids', ...,\n",
       "        'Amazing game, but the graphics could be better.', 'Online', 8]],\n",
       "      dtype=object)"
      ]
     },
     "execution_count": 25,
     "metadata": {},
     "output_type": "execute_result"
    }
   ],
   "source": [
    "chipo.values"
   ]
  }
 ],
 "metadata": {
  "kernelspec": {
   "display_name": "Python 3",
   "language": "python",
   "name": "python3"
  },
  "language_info": {
   "codemirror_mode": {
    "name": "ipython",
    "version": 3
   },
   "file_extension": ".py",
   "mimetype": "text/x-python",
   "name": "python",
   "nbconvert_exporter": "python",
   "pygments_lexer": "ipython3",
   "version": "3.13.0"
  }
 },
 "nbformat": 4,
 "nbformat_minor": 2
}
