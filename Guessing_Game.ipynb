{
 "cells": [
  {
   "cell_type": "code",
   "execution_count": 6,
   "metadata": {},
   "outputs": [
    {
     "name": "stdout",
     "output_type": "stream",
     "text": [
      "Congratulations!\n",
      "Guesses:  2\n"
     ]
    }
   ],
   "source": [
    "arvaus = \"\"\n",
    "nimi = \"Elias\"\n",
    "\n",
    "counter = 0\n",
    "\n",
    "while arvaus != nimi:\n",
    "    arvaus = input (\"Please guess my name.\")\n",
    "    counter += 1\n",
    "    if arvaus != nimi:\n",
    "        response = input (\"Do you want to quit (y/n) ?\")\n",
    "    if response == \"y\":\n",
    "        break\n",
    "    elif input == \"n\":\n",
    "        continue\n",
    "        \n",
    "if (arvaus == nimi):\n",
    "    print (\"Congratulations!\")\n",
    "\n",
    "if (arvaus == \"stop\"):\n",
    "    print (\"You guessed \", (counter-1), \" times.\")\n",
    "else:\n",
    "    print(\"Guesses: \", (counter))"
   ]
  }
 ],
 "metadata": {
  "kernelspec": {
   "display_name": "Python 3",
   "language": "python",
   "name": "python3"
  },
  "language_info": {
   "codemirror_mode": {
    "name": "ipython",
    "version": 3
   },
   "file_extension": ".py",
   "mimetype": "text/x-python",
   "name": "python",
   "nbconvert_exporter": "python",
   "pygments_lexer": "ipython3",
   "version": "3.13.0"
  }
 },
 "nbformat": 4,
 "nbformat_minor": 2
}
